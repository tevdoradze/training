{
 "cells": [
  {
   "cell_type": "markdown",
   "metadata": {},
   "source": [
    "Given two strings, write a method to decide if one is the permutation of the other."
   ]
  },
  {
   "cell_type": "code",
   "execution_count": 24,
   "metadata": {},
   "outputs": [],
   "source": [
    "def checkPermutation(str1, str2):\n",
    "    if len(str1) != len(str2):\n",
    "        return False\n",
    "    \n",
    "    chars = [0] * 256\n",
    "    for c in str1:\n",
    "        chars[ord(c)] = chars[ord(c)]+1\n",
    "    for c in str2:\n",
    "        chars[ord(c)]=chars[ord(c)]-1\n",
    "        if chars[ord(c)]< 0:\n",
    "            return False\n",
    "    return True\n",
    "#Time complexity: O(len(str))\n",
    "#Space complexity: O(1)"
   ]
  },
  {
   "cell_type": "markdown",
   "metadata": {},
   "source": [
    "Test"
   ]
  },
  {
   "cell_type": "code",
   "execution_count": 25,
   "metadata": {},
   "outputs": [],
   "source": [
    "arePermutations = [(\"ab\", \"ba\"), (\"abc\", \"abc\"), (\"abcde\", \"eabcd\")]\n",
    "areNotPermutations = [(\"abc\", \"bba\"), (\"abcde\", \"ebbcd\")]\n",
    "\n",
    "for perm in arePermutations:\n",
    "    assert(checkPermutation(perm[0], perm[1]) == True)\n",
    "for notPerm in areNotPermutations:\n",
    "    assert(checkPermutation(notPerm[0], notPerm[1]) == False)"
   ]
  }
 ],
 "metadata": {
  "kernelspec": {
   "display_name": "Python 3",
   "language": "python",
   "name": "python3"
  },
  "language_info": {
   "codemirror_mode": {
    "name": "ipython",
    "version": 3
   },
   "file_extension": ".py",
   "mimetype": "text/x-python",
   "name": "python",
   "nbconvert_exporter": "python",
   "pygments_lexer": "ipython3",
   "version": "3.6.7"
  }
 },
 "nbformat": 4,
 "nbformat_minor": 2
}
