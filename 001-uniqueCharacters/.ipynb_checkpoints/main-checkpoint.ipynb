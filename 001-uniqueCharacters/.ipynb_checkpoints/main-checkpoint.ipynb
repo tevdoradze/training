{
 "cells": [
  {
   "cell_type": "markdown",
   "metadata": {},
   "source": [
    "Implement an algorithm to determine if a string has all unique characters"
   ]
  },
  {
   "cell_type": "code",
   "execution_count": 51,
   "metadata": {},
   "outputs": [],
   "source": [
    "#Time Complexity: O(len(str))\n",
    "#Space Complexity: O(len(str))\n",
    "def hasUniqueCharacters(str):\n",
    "    if len(str) > 256:\n",
    "        return False\n",
    "    charSet = set()\n",
    "    for c in str: #O(len(str))\n",
    "        if c in charSet: #O(1)\n",
    "            return False\n",
    "        charSet.add(c)\n",
    "    return True"
   ]
  },
  {
   "cell_type": "markdown",
   "metadata": {},
   "source": [
    "Tests:"
   ]
  },
  {
   "cell_type": "code",
   "execution_count": 52,
   "metadata": {},
   "outputs": [],
   "source": [
    "uniqueCharacters = [\"Hola\", \"Hi\", \"\"]\n",
    "notUniqueCharacters = [\"Bonjour\", \"aa\"]"
   ]
  },
  {
   "cell_type": "code",
   "execution_count": 53,
   "metadata": {},
   "outputs": [],
   "source": [
    "for unique in uniqueCharacters:\n",
    "    assert(hasUniqueCharacters(unique) == True)\n",
    "\n",
    "for notUnique in notUniqueCharacters:\n",
    "    assert(hasUniqueCharacters(notUnique) == False)"
   ]
  },
  {
   "cell_type": "markdown",
   "metadata": {},
   "source": [
    "What if you cannot use additional data structures ?"
   ]
  },
  {
   "cell_type": "code",
   "execution_count": 54,
   "metadata": {},
   "outputs": [],
   "source": [
    "#Time Complexity: O(n²)\n",
    "def hasUniqueCharacters2(str):\n",
    "    strLen = len(str)\n",
    "    if strLen > 256:\n",
    "        return False\n",
    "    for i in range(strLen): #O(strLen)\n",
    "        for j in range(i+1, strLen): #O(strLen)\n",
    "            if str[i] == str[j]:\n",
    "                return False\n",
    "    return True"
   ]
  },
  {
   "cell_type": "markdown",
   "metadata": {},
   "source": [
    "Tests"
   ]
  },
  {
   "cell_type": "code",
   "execution_count": 55,
   "metadata": {},
   "outputs": [],
   "source": [
    "for unique in uniqueCharacters:\n",
    "    assert(hasUniqueCharacters2(unique) == True)\n",
    "\n",
    "for notUnique in notUniqueCharacters:\n",
    "    assert(hasUniqueCharacters2(notUnique) == False)"
   ]
  }
 ],
 "metadata": {
  "kernelspec": {
   "display_name": "Python 3",
   "language": "python",
   "name": "python3"
  },
  "language_info": {
   "codemirror_mode": {
    "name": "ipython",
    "version": 3
   },
   "file_extension": ".py",
   "mimetype": "text/x-python",
   "name": "python",
   "nbconvert_exporter": "python",
   "pygments_lexer": "ipython3",
   "version": "3.6.7"
  }
 },
 "nbformat": 4,
 "nbformat_minor": 2
}
